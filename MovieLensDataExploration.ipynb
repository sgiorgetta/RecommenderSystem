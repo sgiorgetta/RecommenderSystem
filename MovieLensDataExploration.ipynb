{
 "cells": [
  {
   "cell_type": "code",
   "execution_count": 1,
   "metadata": {
    "collapsed": true
   },
   "outputs": [],
   "source": [
    "#import packages\n",
    "import pandas as pd\n",
    "import numpy as np\n",
    "import matplotlib.pyplot as plt\n",
    "from matplotlib import colors"
   ]
  },
  {
   "cell_type": "code",
   "execution_count": 2,
   "metadata": {
    "collapsed": false
   },
   "outputs": [],
   "source": [
    "# read the data from the excel files\n",
    "# the movies file was found to have two movies that did not have unique movieid's\n",
    "#  the ratings file was checked to see if these \"extra\" movieId's were included and they were\n",
    "# therefore, it was assumed that the movieId's for these two ratings were entered incorrectly\n",
    "# and both files were updated to reflect a unique movieId for the associated ratings\n",
    "ratings = pd.read_table('ml-latest-small/ratings_updated.csv', sep=',')\n",
    "movies = pd.read_table('ml-latest-small/movies_updated.csv',sep=',')"
   ]
  },
  {
   "cell_type": "code",
   "execution_count": 3,
   "metadata": {
    "collapsed": false
   },
   "outputs": [
    {
     "data": {
      "text/html": [
       "<div>\n",
       "<table border=\"1\" class=\"dataframe\">\n",
       "  <thead>\n",
       "    <tr style=\"text-align: right;\">\n",
       "      <th></th>\n",
       "      <th>userId</th>\n",
       "      <th>movieId</th>\n",
       "      <th>rating</th>\n",
       "      <th>timestamp</th>\n",
       "    </tr>\n",
       "  </thead>\n",
       "  <tbody>\n",
       "    <tr>\n",
       "      <th>0</th>\n",
       "      <td>1</td>\n",
       "      <td>31</td>\n",
       "      <td>2.5</td>\n",
       "      <td>1260759144</td>\n",
       "    </tr>\n",
       "    <tr>\n",
       "      <th>1</th>\n",
       "      <td>1</td>\n",
       "      <td>1029</td>\n",
       "      <td>3.0</td>\n",
       "      <td>1260759179</td>\n",
       "    </tr>\n",
       "    <tr>\n",
       "      <th>2</th>\n",
       "      <td>1</td>\n",
       "      <td>1061</td>\n",
       "      <td>3.0</td>\n",
       "      <td>1260759182</td>\n",
       "    </tr>\n",
       "    <tr>\n",
       "      <th>3</th>\n",
       "      <td>1</td>\n",
       "      <td>1129</td>\n",
       "      <td>2.0</td>\n",
       "      <td>1260759185</td>\n",
       "    </tr>\n",
       "    <tr>\n",
       "      <th>4</th>\n",
       "      <td>1</td>\n",
       "      <td>1172</td>\n",
       "      <td>4.0</td>\n",
       "      <td>1260759205</td>\n",
       "    </tr>\n",
       "  </tbody>\n",
       "</table>\n",
       "</div>"
      ],
      "text/plain": [
       "   userId  movieId  rating   timestamp\n",
       "0       1       31     2.5  1260759144\n",
       "1       1     1029     3.0  1260759179\n",
       "2       1     1061     3.0  1260759182\n",
       "3       1     1129     2.0  1260759185\n",
       "4       1     1172     4.0  1260759205"
      ]
     },
     "execution_count": 3,
     "metadata": {},
     "output_type": "execute_result"
    }
   ],
   "source": [
    "ratings.head()"
   ]
  },
  {
   "cell_type": "code",
   "execution_count": 4,
   "metadata": {
    "collapsed": false
   },
   "outputs": [
    {
     "data": {
      "text/plain": [
       "userId       100004\n",
       "movieId      100004\n",
       "rating       100004\n",
       "timestamp    100004\n",
       "dtype: int64"
      ]
     },
     "execution_count": 4,
     "metadata": {},
     "output_type": "execute_result"
    }
   ],
   "source": [
    "# explore the ratings dataframe\n",
    "ratings.count()"
   ]
  },
  {
   "cell_type": "code",
   "execution_count": 5,
   "metadata": {
    "collapsed": false
   },
   "outputs": [
    {
     "data": {
      "text/plain": [
       "False"
      ]
     },
     "execution_count": 5,
     "metadata": {},
     "output_type": "execute_result"
    }
   ],
   "source": [
    "ratings.isnull().values.any()"
   ]
  },
  {
   "cell_type": "code",
   "execution_count": 6,
   "metadata": {
    "collapsed": false
   },
   "outputs": [
    {
     "data": {
      "text/plain": [
       "9064"
      ]
     },
     "execution_count": 6,
     "metadata": {},
     "output_type": "execute_result"
    }
   ],
   "source": [
    "ratings.movieId.nunique()"
   ]
  },
  {
   "cell_type": "code",
   "execution_count": 7,
   "metadata": {
    "collapsed": false
   },
   "outputs": [
    {
     "data": {
      "text/plain": [
       "movieId    9123\n",
       "title      9123\n",
       "genres     9123\n",
       "dtype: int64"
      ]
     },
     "execution_count": 7,
     "metadata": {},
     "output_type": "execute_result"
    }
   ],
   "source": [
    "# explore the movies dataframe\n",
    "movies.count()"
   ]
  },
  {
   "cell_type": "code",
   "execution_count": 8,
   "metadata": {
    "collapsed": false
   },
   "outputs": [
    {
     "data": {
      "text/plain": [
       "False"
      ]
     },
     "execution_count": 8,
     "metadata": {},
     "output_type": "execute_result"
    }
   ],
   "source": [
    "movies.isnull().values.any()"
   ]
  },
  {
   "cell_type": "code",
   "execution_count": 9,
   "metadata": {
    "collapsed": false
   },
   "outputs": [
    {
     "data": {
      "text/plain": [
       "9123"
      ]
     },
     "execution_count": 9,
     "metadata": {},
     "output_type": "execute_result"
    }
   ],
   "source": [
    "movies.movieId.nunique()"
   ]
  },
  {
   "cell_type": "code",
   "execution_count": 10,
   "metadata": {
    "collapsed": false
   },
   "outputs": [
    {
     "data": {
      "text/plain": [
       "9123"
      ]
     },
     "execution_count": 10,
     "metadata": {},
     "output_type": "execute_result"
    }
   ],
   "source": [
    "movies.title.nunique()"
   ]
  },
  {
   "cell_type": "code",
   "execution_count": 11,
   "metadata": {
    "collapsed": false,
    "scrolled": true
   },
   "outputs": [
    {
     "data": {
      "text/html": [
       "<div>\n",
       "<table border=\"1\" class=\"dataframe\">\n",
       "  <thead>\n",
       "    <tr style=\"text-align: right;\">\n",
       "      <th></th>\n",
       "      <th>userId</th>\n",
       "      <th>movieId</th>\n",
       "      <th>rating</th>\n",
       "      <th>timestamp</th>\n",
       "      <th>title</th>\n",
       "      <th>genres</th>\n",
       "    </tr>\n",
       "  </thead>\n",
       "  <tbody>\n",
       "    <tr>\n",
       "      <th>0</th>\n",
       "      <td>1</td>\n",
       "      <td>31</td>\n",
       "      <td>2.5</td>\n",
       "      <td>1260759144</td>\n",
       "      <td>Dangerous Minds (1995)</td>\n",
       "      <td>Drama</td>\n",
       "    </tr>\n",
       "    <tr>\n",
       "      <th>1</th>\n",
       "      <td>7</td>\n",
       "      <td>31</td>\n",
       "      <td>3.0</td>\n",
       "      <td>851868750</td>\n",
       "      <td>Dangerous Minds (1995)</td>\n",
       "      <td>Drama</td>\n",
       "    </tr>\n",
       "    <tr>\n",
       "      <th>2</th>\n",
       "      <td>31</td>\n",
       "      <td>31</td>\n",
       "      <td>4.0</td>\n",
       "      <td>1273541953</td>\n",
       "      <td>Dangerous Minds (1995)</td>\n",
       "      <td>Drama</td>\n",
       "    </tr>\n",
       "    <tr>\n",
       "      <th>3</th>\n",
       "      <td>32</td>\n",
       "      <td>31</td>\n",
       "      <td>4.0</td>\n",
       "      <td>834828440</td>\n",
       "      <td>Dangerous Minds (1995)</td>\n",
       "      <td>Drama</td>\n",
       "    </tr>\n",
       "    <tr>\n",
       "      <th>4</th>\n",
       "      <td>36</td>\n",
       "      <td>31</td>\n",
       "      <td>3.0</td>\n",
       "      <td>847057202</td>\n",
       "      <td>Dangerous Minds (1995)</td>\n",
       "      <td>Drama</td>\n",
       "    </tr>\n",
       "  </tbody>\n",
       "</table>\n",
       "</div>"
      ],
      "text/plain": [
       "   userId  movieId  rating   timestamp                   title genres\n",
       "0       1       31     2.5  1260759144  Dangerous Minds (1995)  Drama\n",
       "1       7       31     3.0   851868750  Dangerous Minds (1995)  Drama\n",
       "2      31       31     4.0  1273541953  Dangerous Minds (1995)  Drama\n",
       "3      32       31     4.0   834828440  Dangerous Minds (1995)  Drama\n",
       "4      36       31     3.0   847057202  Dangerous Minds (1995)  Drama"
      ]
     },
     "execution_count": 11,
     "metadata": {},
     "output_type": "execute_result"
    }
   ],
   "source": [
    "# add movie title data to ratings data\n",
    "# join the dataframes on column 'movieId'\n",
    "df = pd.merge(ratings, movies, on='movieId', how='inner')\n",
    "df.head()"
   ]
  },
  {
   "cell_type": "code",
   "execution_count": 12,
   "metadata": {
    "collapsed": true
   },
   "outputs": [],
   "source": [
    "# check to make sure the resultant database is what is expected and desired"
   ]
  },
  {
   "cell_type": "code",
   "execution_count": 13,
   "metadata": {
    "collapsed": false
   },
   "outputs": [
    {
     "data": {
      "text/plain": [
       "userId       100004\n",
       "movieId      100004\n",
       "rating       100004\n",
       "timestamp    100004\n",
       "title        100004\n",
       "genres       100004\n",
       "dtype: int64"
      ]
     },
     "execution_count": 13,
     "metadata": {},
     "output_type": "execute_result"
    }
   ],
   "source": [
    "df.count()"
   ]
  },
  {
   "cell_type": "code",
   "execution_count": 14,
   "metadata": {
    "collapsed": false
   },
   "outputs": [
    {
     "data": {
      "text/plain": [
       "9064"
      ]
     },
     "execution_count": 14,
     "metadata": {},
     "output_type": "execute_result"
    }
   ],
   "source": [
    "df.title.nunique()"
   ]
  },
  {
   "cell_type": "code",
   "execution_count": 15,
   "metadata": {
    "collapsed": false
   },
   "outputs": [
    {
     "data": {
      "text/plain": [
       "9064"
      ]
     },
     "execution_count": 15,
     "metadata": {},
     "output_type": "execute_result"
    }
   ],
   "source": [
    "df.movieId.nunique()"
   ]
  },
  {
   "cell_type": "code",
   "execution_count": 16,
   "metadata": {
    "collapsed": false
   },
   "outputs": [
    {
     "data": {
      "text/plain": [
       "671"
      ]
     },
     "execution_count": 16,
     "metadata": {},
     "output_type": "execute_result"
    }
   ],
   "source": [
    "df.userId.nunique()"
   ]
  },
  {
   "cell_type": "code",
   "execution_count": 17,
   "metadata": {
    "collapsed": false
   },
   "outputs": [
    {
     "data": {
      "text/plain": [
       "False"
      ]
     },
     "execution_count": 17,
     "metadata": {},
     "output_type": "execute_result"
    }
   ],
   "source": [
    "df.isnull().values.any()"
   ]
  },
  {
   "cell_type": "code",
   "execution_count": 18,
   "metadata": {
    "collapsed": false
   },
   "outputs": [
    {
     "data": {
      "text/plain": [
       "0.5     1101\n",
       "1.0     3326\n",
       "1.5     1687\n",
       "2.0     7271\n",
       "2.5     4449\n",
       "3.0    20064\n",
       "3.5    10538\n",
       "4.0    28750\n",
       "4.5     7723\n",
       "5.0    15095\n",
       "Name: rating, dtype: int64"
      ]
     },
     "execution_count": 18,
     "metadata": {},
     "output_type": "execute_result"
    }
   ],
   "source": [
    "# find the number of ratings per each rating value\n",
    "df.rating.value_counts().sort_index()"
   ]
  },
  {
   "cell_type": "code",
   "execution_count": 19,
   "metadata": {
    "collapsed": false
   },
   "outputs": [],
   "source": [
    "# store it in numratings and then plot\n",
    "numratings = df.rating.value_counts().sort_index()"
   ]
  },
  {
   "cell_type": "code",
   "execution_count": 20,
   "metadata": {
    "collapsed": false,
    "scrolled": true
   },
   "outputs": [
    {
     "data": {
      "image/png": "[encoded data removed]",
      "text/plain": [
       "<matplotlib.figure.Figure at 0x97e25f8>"
      ]
     },
     "metadata": {},
     "output_type": "display_data"
    }
   ],
   "source": [
    "#  create a bar graph of the result\n",
    "plt.figure()\n",
    "ax = plt.subplot(111)\n",
    "ax.spines[\"top\"].set_visible(False)  \n",
    "ax.spines[\"right\"].set_visible(False) \n",
    "ax.get_xaxis().tick_bottom()  \n",
    "ax.get_yaxis().tick_left()  \n",
    "plt.xlabel('Rating Value')\n",
    "plt.ylabel('Number of Ratings')\n",
    "numratings.plot(kind='bar', color='grey')\n",
    "plt.title('Number of Ratings per Value')\n",
    "plt.show()"
   ]
  },
  {
   "cell_type": "raw",
   "metadata": {
    "collapsed": true
   },
   "source": [
    "The most frequent rating given was 4.0, followed by 3.0.  The least most frequent rating was 0.5."
   ]
  },
  {
   "cell_type": "code",
   "execution_count": 21,
   "metadata": {
    "collapsed": false
   },
   "outputs": [
    {
     "data": {
      "text/plain": [
       "userId\n",
       "1        20\n",
       "2        76\n",
       "3        51\n",
       "4       204\n",
       "5       100\n",
       "6        44\n",
       "7        88\n",
       "8       116\n",
       "9        45\n",
       "10       46\n",
       "11       38\n",
       "12       61\n",
       "13       53\n",
       "14       20\n",
       "15     1700\n",
       "16       29\n",
       "17      363\n",
       "18       51\n",
       "19      423\n",
       "20       98\n",
       "21      162\n",
       "22      220\n",
       "23      726\n",
       "24       21\n",
       "25       26\n",
       "26      172\n",
       "27       23\n",
       "28       50\n",
       "29       22\n",
       "30     1011\n",
       "       ... \n",
       "642      36\n",
       "643      24\n",
       "644      39\n",
       "645      30\n",
       "646     169\n",
       "647     150\n",
       "648     256\n",
       "649      90\n",
       "650      29\n",
       "651      20\n",
       "652     267\n",
       "653      51\n",
       "654     626\n",
       "655     105\n",
       "656     128\n",
       "657      20\n",
       "658      60\n",
       "659     142\n",
       "660      92\n",
       "661      33\n",
       "662      58\n",
       "663      26\n",
       "664     519\n",
       "665     434\n",
       "666      40\n",
       "667      68\n",
       "668      20\n",
       "669      37\n",
       "670      31\n",
       "671     115\n",
       "dtype: int64"
      ]
     },
     "execution_count": 21,
     "metadata": {},
     "output_type": "execute_result"
    }
   ],
   "source": [
    "# find the number of  movies rated by each user\n",
    "df.groupby('userId').size()"
   ]
  },
  {
   "cell_type": "code",
   "execution_count": 22,
   "metadata": {
    "collapsed": false
   },
   "outputs": [],
   "source": [
    "#  save it so we can plot it\n",
    "ratingsperuser = df.groupby('userId').size()"
   ]
  },
  {
   "cell_type": "code",
   "execution_count": 23,
   "metadata": {
    "collapsed": false
   },
   "outputs": [
    {
     "data": {
      "text/plain": [
       "2391"
      ]
     },
     "execution_count": 23,
     "metadata": {},
     "output_type": "execute_result"
    }
   ],
   "source": [
    "#  What is the largest number of movies rated by a user?\n",
    "ratingsperuser.max()"
   ]
  },
  {
   "cell_type": "code",
   "execution_count": 24,
   "metadata": {
    "collapsed": false
   },
   "outputs": [
    {
     "data": {
      "text/plain": [
       "20"
      ]
     },
     "execution_count": 24,
     "metadata": {},
     "output_type": "execute_result"
    }
   ],
   "source": [
    "#  What is the smallest number of movies rated by a user?\n",
    "ratingsperuser.min()"
   ]
  },
  {
   "cell_type": "code",
   "execution_count": 25,
   "metadata": {
    "collapsed": false
   },
   "outputs": [
    {
     "data": {
      "text/plain": [
       "149.03725782414307"
      ]
     },
     "execution_count": 25,
     "metadata": {},
     "output_type": "execute_result"
    }
   ],
   "source": [
    "# what is the average number of movies rated by a user?\n",
    "ratingsperuser.mean()"
   ]
  },
  {
   "cell_type": "code",
   "execution_count": 26,
   "metadata": {
    "collapsed": false,
    "scrolled": false
   },
   "outputs": [
    {
     "data": {
      "image/png": "[encoded data removed]",
      "text/plain": [
       "<matplotlib.figure.Figure at 0x980a0f0>"
      ]
     },
     "metadata": {},
     "output_type": "display_data"
    }
   ],
   "source": [
    "# create a histogram of the number of movies rated by a user\n",
    "\n",
    "plt.figure(figsize=(8, 5))\n",
    "ax = plt.subplot(111)\n",
    "ax.spines[\"top\"].set_visible(False)  \n",
    "ax.spines[\"right\"].set_visible(False) \n",
    "ax.get_xaxis().tick_bottom()  \n",
    "ax.get_yaxis().tick_left()  \n",
    "ratingsperuser.plot.hist(bins=50,color='grey')\n",
    "plt.xlabel('Number of Ratings')\n",
    "plt.title('Number of Ratings per User')\n",
    "plt.show()"
   ]
  },
  {
   "cell_type": "raw",
   "metadata": {},
   "source": [
    " The majority of users have rated less than 500 films."
   ]
  },
  {
   "cell_type": "code",
   "execution_count": 27,
   "metadata": {
    "collapsed": false
   },
   "outputs": [
    {
     "data": {
      "text/html": [
       "<div>\n",
       "<table border=\"1\" class=\"dataframe\">\n",
       "  <thead>\n",
       "    <tr style=\"text-align: right;\">\n",
       "      <th></th>\n",
       "      <th>userId</th>\n",
       "      <th>movieId</th>\n",
       "      <th>rating</th>\n",
       "      <th>timestamp</th>\n",
       "      <th>title</th>\n",
       "      <th>genres</th>\n",
       "    </tr>\n",
       "  </thead>\n",
       "  <tbody>\n",
       "    <tr>\n",
       "      <th>0</th>\n",
       "      <td>1</td>\n",
       "      <td>31</td>\n",
       "      <td>2.5</td>\n",
       "      <td>1260759144</td>\n",
       "      <td>Dangerous Minds (1995)</td>\n",
       "      <td>Drama</td>\n",
       "    </tr>\n",
       "    <tr>\n",
       "      <th>1</th>\n",
       "      <td>7</td>\n",
       "      <td>31</td>\n",
       "      <td>3.0</td>\n",
       "      <td>851868750</td>\n",
       "      <td>Dangerous Minds (1995)</td>\n",
       "      <td>Drama</td>\n",
       "    </tr>\n",
       "    <tr>\n",
       "      <th>2</th>\n",
       "      <td>31</td>\n",
       "      <td>31</td>\n",
       "      <td>4.0</td>\n",
       "      <td>1273541953</td>\n",
       "      <td>Dangerous Minds (1995)</td>\n",
       "      <td>Drama</td>\n",
       "    </tr>\n",
       "    <tr>\n",
       "      <th>3</th>\n",
       "      <td>32</td>\n",
       "      <td>31</td>\n",
       "      <td>4.0</td>\n",
       "      <td>834828440</td>\n",
       "      <td>Dangerous Minds (1995)</td>\n",
       "      <td>Drama</td>\n",
       "    </tr>\n",
       "    <tr>\n",
       "      <th>4</th>\n",
       "      <td>36</td>\n",
       "      <td>31</td>\n",
       "      <td>3.0</td>\n",
       "      <td>847057202</td>\n",
       "      <td>Dangerous Minds (1995)</td>\n",
       "      <td>Drama</td>\n",
       "    </tr>\n",
       "  </tbody>\n",
       "</table>\n",
       "</div>"
      ],
      "text/plain": [
       "   userId  movieId  rating   timestamp                   title genres\n",
       "0       1       31     2.5  1260759144  Dangerous Minds (1995)  Drama\n",
       "1       7       31     3.0   851868750  Dangerous Minds (1995)  Drama\n",
       "2      31       31     4.0  1273541953  Dangerous Minds (1995)  Drama\n",
       "3      32       31     4.0   834828440  Dangerous Minds (1995)  Drama\n",
       "4      36       31     3.0   847057202  Dangerous Minds (1995)  Drama"
      ]
     },
     "execution_count": 27,
     "metadata": {},
     "output_type": "execute_result"
    }
   ],
   "source": [
    "# for reference, review df\n",
    "df.head()"
   ]
  },
  {
   "cell_type": "code",
   "execution_count": 28,
   "metadata": {
    "collapsed": false
   },
   "outputs": [],
   "source": [
    "# what is the average rating assigned by a user?\n",
    "udf = df[['userId','rating']].groupby('userId').mean()"
   ]
  },
  {
   "cell_type": "code",
   "execution_count": 29,
   "metadata": {
    "collapsed": false
   },
   "outputs": [
    {
     "data": {
      "text/plain": [
       "<matplotlib.figure.Figure at 0x9a1dcc0>"
      ]
     },
     "metadata": {},
     "output_type": "display_data"
    },
    {
     "data": {
      "image/png": "[encoded data removed]",
      "text/plain": [
       "<matplotlib.figure.Figure at 0x9a1df28>"
      ]
     },
     "metadata": {},
     "output_type": "display_data"
    }
   ],
   "source": [
    "# create a histogram of the average rating assigned by a user and see if it is a normal distribution\n",
    "plt.figure()\n",
    "#ax = plt.subplot(111)\n",
    "ax.spines[\"top\"].set_visible(False)  \n",
    "ax.spines[\"right\"].set_visible(False) \n",
    "ax.get_xaxis().tick_bottom()  \n",
    "ax.get_yaxis().tick_left() \n",
    "udf.plot.hist(bins=30,color='grey')\n",
    "plt.xlabel('Rating')\n",
    "plt.title('Average Ratings per User')\n",
    "plt.show()"
   ]
  },
  {
   "cell_type": "code",
   "execution_count": 30,
   "metadata": {
    "collapsed": true
   },
   "outputs": [],
   "source": [
    "# we want to know what the average rating of each movie was and how many ratings each movie received\n",
    "# create a dataframe called mdf that contains the movieId and rating\n",
    "mdf = df[['movieId','rating']]"
   ]
  },
  {
   "cell_type": "code",
   "execution_count": 31,
   "metadata": {
    "collapsed": false,
    "scrolled": true
   },
   "outputs": [],
   "source": [
    "ratingspermovie = mdf.groupby('movieId').size()"
   ]
  },
  {
   "cell_type": "code",
   "execution_count": 32,
   "metadata": {
    "collapsed": false,
    "scrolled": true
   },
   "outputs": [
    {
     "data": {
      "text/plain": [
       "movieId\n",
       "1    247\n",
       "2    107\n",
       "3     59\n",
       "4     13\n",
       "5     56\n",
       "dtype: int64"
      ]
     },
     "execution_count": 32,
     "metadata": {},
     "output_type": "execute_result"
    }
   ],
   "source": [
    "ratingspermovie.head()"
   ]
  },
  {
   "cell_type": "code",
   "execution_count": 33,
   "metadata": {
    "collapsed": false
   },
   "outputs": [
    {
     "data": {
      "text/plain": [
       "1"
      ]
     },
     "execution_count": 33,
     "metadata": {},
     "output_type": "execute_result"
    }
   ],
   "source": [
    "ratingspermovie.min()"
   ]
  },
  {
   "cell_type": "code",
   "execution_count": 34,
   "metadata": {
    "collapsed": false,
    "scrolled": true
   },
   "outputs": [
    {
     "data": {
      "text/plain": [
       "341"
      ]
     },
     "execution_count": 34,
     "metadata": {},
     "output_type": "execute_result"
    }
   ],
   "source": [
    "ratingspermovie.max()"
   ]
  },
  {
   "cell_type": "code",
   "execution_count": 35,
   "metadata": {
    "collapsed": false
   },
   "outputs": [
    {
     "data": {
      "text/plain": [
       "11.033097969991173"
      ]
     },
     "execution_count": 35,
     "metadata": {},
     "output_type": "execute_result"
    }
   ],
   "source": [
    "ratingspermovie.mean()"
   ]
  },
  {
   "cell_type": "code",
   "execution_count": 36,
   "metadata": {
    "collapsed": false,
    "scrolled": true
   },
   "outputs": [
    {
     "data": {
      "image/png": "[encoded data removed]",
      "text/plain": [
       "<matplotlib.figure.Figure at 0xa1bcba8>"
      ]
     },
     "metadata": {},
     "output_type": "display_data"
    }
   ],
   "source": [
    "# create a histogram of the number of ratings per movie\n",
    "\n",
    "plt.figure(figsize=(8,5))\n",
    "ax = plt.subplot(111)\n",
    "ax.spines[\"top\"].set_visible(False)  \n",
    "ax.spines[\"right\"].set_visible(False) \n",
    "ax.get_xaxis().tick_bottom()  \n",
    "ax.get_yaxis().tick_left() \n",
    "ratingspermovie.plot.hist(bins=40,color='grey')\n",
    "plt.title('Number of Ratings per Movie')\n",
    "plt.xlabel('Number of Ratings')\n",
    "plt.show()"
   ]
  },
  {
   "cell_type": "raw",
   "metadata": {},
   "source": [
    " The majority of the movies have less than 50 ratings."
   ]
  },
  {
   "cell_type": "code",
   "execution_count": 37,
   "metadata": {
    "collapsed": false,
    "scrolled": true
   },
   "outputs": [
    {
     "data": {
      "text/plain": [
       "movieId  rating\n",
       "1        1.0        4\n",
       "         1.5        3\n",
       "         2.0       13\n",
       "         2.5        4\n",
       "         3.0       41\n",
       "         3.5       23\n",
       "         4.0       77\n",
       "         4.5       19\n",
       "         5.0       63\n",
       "2        1.5        1\n",
       "         2.0       12\n",
       "         2.5        6\n",
       "         3.0       37\n",
       "         3.5       10\n",
       "         4.0       27\n",
       "         4.5        1\n",
       "         5.0       13\n",
       "3        0.5        1\n",
       "         1.0        3\n",
       "         1.5        2\n",
       "         2.0        9\n",
       "         2.5        2\n",
       "         3.0       18\n",
       "         3.5        2\n",
       "         4.0       13\n",
       "         4.5        2\n",
       "         5.0        7\n",
       "4        1.0        3\n",
       "         1.5        1\n",
       "         2.0        1\n",
       "                   ..\n",
       "159093   1.0        1\n",
       "         3.0        1\n",
       "159462   3.0        1\n",
       "159690   2.0        1\n",
       "159755   1.0        1\n",
       "159858   3.5        1\n",
       "         4.0        1\n",
       "159972   0.5        1\n",
       "160080   1.0        1\n",
       "160271   2.5        1\n",
       "160438   4.0        1\n",
       "         4.5        1\n",
       "160440   1.5        1\n",
       "160563   1.0        1\n",
       "         4.0        1\n",
       "160565   2.0        1\n",
       "160567   4.0        1\n",
       "160590   5.0        1\n",
       "160656   3.5        1\n",
       "160718   4.0        1\n",
       "161084   2.5        1\n",
       "161155   0.5        1\n",
       "161594   3.0        1\n",
       "161830   1.0        1\n",
       "161918   1.5        1\n",
       "161944   5.0        1\n",
       "162376   4.5        1\n",
       "162542   5.0        1\n",
       "162672   3.0        1\n",
       "163949   5.0        1\n",
       "dtype: int64"
      ]
     },
     "execution_count": 37,
     "metadata": {},
     "output_type": "execute_result"
    }
   ],
   "source": [
    "# how many ratings of each value did each movie receive?\n",
    "df.groupby(['movieId','rating']).size()"
   ]
  },
  {
   "cell_type": "code",
   "execution_count": 38,
   "metadata": {
    "collapsed": false,
    "scrolled": true
   },
   "outputs": [
    {
     "data": {
      "text/html": [
       "<div>\n",
       "<table border=\"1\" class=\"dataframe\">\n",
       "  <thead>\n",
       "    <tr style=\"text-align: right;\">\n",
       "      <th></th>\n",
       "      <th>rating</th>\n",
       "    </tr>\n",
       "    <tr>\n",
       "      <th>movieId</th>\n",
       "      <th></th>\n",
       "    </tr>\n",
       "  </thead>\n",
       "  <tbody>\n",
       "    <tr>\n",
       "      <th>1</th>\n",
       "      <td>3.872470</td>\n",
       "    </tr>\n",
       "    <tr>\n",
       "      <th>2</th>\n",
       "      <td>3.401869</td>\n",
       "    </tr>\n",
       "    <tr>\n",
       "      <th>3</th>\n",
       "      <td>3.161017</td>\n",
       "    </tr>\n",
       "    <tr>\n",
       "      <th>4</th>\n",
       "      <td>2.384615</td>\n",
       "    </tr>\n",
       "    <tr>\n",
       "      <th>5</th>\n",
       "      <td>3.267857</td>\n",
       "    </tr>\n",
       "    <tr>\n",
       "      <th>6</th>\n",
       "      <td>3.884615</td>\n",
       "    </tr>\n",
       "    <tr>\n",
       "      <th>7</th>\n",
       "      <td>3.283019</td>\n",
       "    </tr>\n",
       "    <tr>\n",
       "      <th>8</th>\n",
       "      <td>3.800000</td>\n",
       "    </tr>\n",
       "    <tr>\n",
       "      <th>9</th>\n",
       "      <td>3.150000</td>\n",
       "    </tr>\n",
       "    <tr>\n",
       "      <th>10</th>\n",
       "      <td>3.450820</td>\n",
       "    </tr>\n",
       "    <tr>\n",
       "      <th>11</th>\n",
       "      <td>3.689024</td>\n",
       "    </tr>\n",
       "    <tr>\n",
       "      <th>12</th>\n",
       "      <td>2.861111</td>\n",
       "    </tr>\n",
       "    <tr>\n",
       "      <th>13</th>\n",
       "      <td>3.937500</td>\n",
       "    </tr>\n",
       "    <tr>\n",
       "      <th>14</th>\n",
       "      <td>3.451613</td>\n",
       "    </tr>\n",
       "    <tr>\n",
       "      <th>15</th>\n",
       "      <td>2.318182</td>\n",
       "    </tr>\n",
       "    <tr>\n",
       "      <th>16</th>\n",
       "      <td>3.948864</td>\n",
       "    </tr>\n",
       "    <tr>\n",
       "      <th>17</th>\n",
       "      <td>3.924419</td>\n",
       "    </tr>\n",
       "    <tr>\n",
       "      <th>18</th>\n",
       "      <td>3.288462</td>\n",
       "    </tr>\n",
       "    <tr>\n",
       "      <th>19</th>\n",
       "      <td>2.597826</td>\n",
       "    </tr>\n",
       "    <tr>\n",
       "      <th>20</th>\n",
       "      <td>2.538462</td>\n",
       "    </tr>\n",
       "    <tr>\n",
       "      <th>21</th>\n",
       "      <td>3.536842</td>\n",
       "    </tr>\n",
       "    <tr>\n",
       "      <th>22</th>\n",
       "      <td>3.355263</td>\n",
       "    </tr>\n",
       "    <tr>\n",
       "      <th>23</th>\n",
       "      <td>3.090909</td>\n",
       "    </tr>\n",
       "    <tr>\n",
       "      <th>24</th>\n",
       "      <td>3.044118</td>\n",
       "    </tr>\n",
       "    <tr>\n",
       "      <th>25</th>\n",
       "      <td>3.742574</td>\n",
       "    </tr>\n",
       "    <tr>\n",
       "      <th>26</th>\n",
       "      <td>4.100000</td>\n",
       "    </tr>\n",
       "    <tr>\n",
       "      <th>27</th>\n",
       "      <td>3.142857</td>\n",
       "    </tr>\n",
       "    <tr>\n",
       "      <th>28</th>\n",
       "      <td>4.083333</td>\n",
       "    </tr>\n",
       "    <tr>\n",
       "      <th>29</th>\n",
       "      <td>4.025000</td>\n",
       "    </tr>\n",
       "    <tr>\n",
       "      <th>30</th>\n",
       "      <td>4.050000</td>\n",
       "    </tr>\n",
       "    <tr>\n",
       "      <th>...</th>\n",
       "      <td>...</td>\n",
       "    </tr>\n",
       "    <tr>\n",
       "      <th>158238</th>\n",
       "      <td>3.750000</td>\n",
       "    </tr>\n",
       "    <tr>\n",
       "      <th>158314</th>\n",
       "      <td>4.500000</td>\n",
       "    </tr>\n",
       "    <tr>\n",
       "      <th>158528</th>\n",
       "      <td>3.500000</td>\n",
       "    </tr>\n",
       "    <tr>\n",
       "      <th>158956</th>\n",
       "      <td>4.000000</td>\n",
       "    </tr>\n",
       "    <tr>\n",
       "      <th>159093</th>\n",
       "      <td>2.000000</td>\n",
       "    </tr>\n",
       "    <tr>\n",
       "      <th>159462</th>\n",
       "      <td>3.000000</td>\n",
       "    </tr>\n",
       "    <tr>\n",
       "      <th>159690</th>\n",
       "      <td>2.000000</td>\n",
       "    </tr>\n",
       "    <tr>\n",
       "      <th>159755</th>\n",
       "      <td>1.000000</td>\n",
       "    </tr>\n",
       "    <tr>\n",
       "      <th>159858</th>\n",
       "      <td>3.750000</td>\n",
       "    </tr>\n",
       "    <tr>\n",
       "      <th>159972</th>\n",
       "      <td>0.500000</td>\n",
       "    </tr>\n",
       "    <tr>\n",
       "      <th>160080</th>\n",
       "      <td>1.000000</td>\n",
       "    </tr>\n",
       "    <tr>\n",
       "      <th>160271</th>\n",
       "      <td>2.500000</td>\n",
       "    </tr>\n",
       "    <tr>\n",
       "      <th>160438</th>\n",
       "      <td>4.250000</td>\n",
       "    </tr>\n",
       "    <tr>\n",
       "      <th>160440</th>\n",
       "      <td>1.500000</td>\n",
       "    </tr>\n",
       "    <tr>\n",
       "      <th>160563</th>\n",
       "      <td>2.500000</td>\n",
       "    </tr>\n",
       "    <tr>\n",
       "      <th>160565</th>\n",
       "      <td>2.000000</td>\n",
       "    </tr>\n",
       "    <tr>\n",
       "      <th>160567</th>\n",
       "      <td>4.000000</td>\n",
       "    </tr>\n",
       "    <tr>\n",
       "      <th>160590</th>\n",
       "      <td>5.000000</td>\n",
       "    </tr>\n",
       "    <tr>\n",
       "      <th>160656</th>\n",
       "      <td>3.500000</td>\n",
       "    </tr>\n",
       "    <tr>\n",
       "      <th>160718</th>\n",
       "      <td>4.000000</td>\n",
       "    </tr>\n",
       "    <tr>\n",
       "      <th>161084</th>\n",
       "      <td>2.500000</td>\n",
       "    </tr>\n",
       "    <tr>\n",
       "      <th>161155</th>\n",
       "      <td>0.500000</td>\n",
       "    </tr>\n",
       "    <tr>\n",
       "      <th>161594</th>\n",
       "      <td>3.000000</td>\n",
       "    </tr>\n",
       "    <tr>\n",
       "      <th>161830</th>\n",
       "      <td>1.000000</td>\n",
       "    </tr>\n",
       "    <tr>\n",
       "      <th>161918</th>\n",
       "      <td>1.500000</td>\n",
       "    </tr>\n",
       "    <tr>\n",
       "      <th>161944</th>\n",
       "      <td>5.000000</td>\n",
       "    </tr>\n",
       "    <tr>\n",
       "      <th>162376</th>\n",
       "      <td>4.500000</td>\n",
       "    </tr>\n",
       "    <tr>\n",
       "      <th>162542</th>\n",
       "      <td>5.000000</td>\n",
       "    </tr>\n",
       "    <tr>\n",
       "      <th>162672</th>\n",
       "      <td>3.000000</td>\n",
       "    </tr>\n",
       "    <tr>\n",
       "      <th>163949</th>\n",
       "      <td>5.000000</td>\n",
       "    </tr>\n",
       "  </tbody>\n",
       "</table>\n",
       "<p>9064 rows × 1 columns</p>\n",
       "</div>"
      ],
      "text/plain": [
       "           rating\n",
       "movieId          \n",
       "1        3.872470\n",
       "2        3.401869\n",
       "3        3.161017\n",
       "4        2.384615\n",
       "5        3.267857\n",
       "6        3.884615\n",
       "7        3.283019\n",
       "8        3.800000\n",
       "9        3.150000\n",
       "10       3.450820\n",
       "11       3.689024\n",
       "12       2.861111\n",
       "13       3.937500\n",
       "14       3.451613\n",
       "15       2.318182\n",
       "16       3.948864\n",
       "17       3.924419\n",
       "18       3.288462\n",
       "19       2.597826\n",
       "20       2.538462\n",
       "21       3.536842\n",
       "22       3.355263\n",
       "23       3.090909\n",
       "24       3.044118\n",
       "25       3.742574\n",
       "26       4.100000\n",
       "27       3.142857\n",
       "28       4.083333\n",
       "29       4.025000\n",
       "30       4.050000\n",
       "...           ...\n",
       "158238   3.750000\n",
       "158314   4.500000\n",
       "158528   3.500000\n",
       "158956   4.000000\n",
       "159093   2.000000\n",
       "159462   3.000000\n",
       "159690   2.000000\n",
       "159755   1.000000\n",
       "159858   3.750000\n",
       "159972   0.500000\n",
       "160080   1.000000\n",
       "160271   2.500000\n",
       "160438   4.250000\n",
       "160440   1.500000\n",
       "160563   2.500000\n",
       "160565   2.000000\n",
       "160567   4.000000\n",
       "160590   5.000000\n",
       "160656   3.500000\n",
       "160718   4.000000\n",
       "161084   2.500000\n",
       "161155   0.500000\n",
       "161594   3.000000\n",
       "161830   1.000000\n",
       "161918   1.500000\n",
       "161944   5.000000\n",
       "162376   4.500000\n",
       "162542   5.000000\n",
       "162672   3.000000\n",
       "163949   5.000000\n",
       "\n",
       "[9064 rows x 1 columns]"
      ]
     },
     "execution_count": 38,
     "metadata": {},
     "output_type": "execute_result"
    }
   ],
   "source": [
    "# what was the average rating each movie received?\n",
    "mdf.groupby('movieId').mean()"
   ]
  },
  {
   "cell_type": "code",
   "execution_count": 39,
   "metadata": {
    "collapsed": true
   },
   "outputs": [],
   "source": [
    "avgratingpermovie = mdf.groupby('movieId').mean()"
   ]
  },
  {
   "cell_type": "code",
   "execution_count": 40,
   "metadata": {
    "collapsed": false,
    "scrolled": true
   },
   "outputs": [
    {
     "data": {
      "text/plain": [
       "<matplotlib.figure.Figure at 0xbfd2748>"
      ]
     },
     "metadata": {},
     "output_type": "display_data"
    },
    {
     "data": {
      "image/png": "[encoded data removed]",
      "text/plain": [
       "<matplotlib.figure.Figure at 0xbd2ff60>"
      ]
     },
     "metadata": {},
     "output_type": "display_data"
    }
   ],
   "source": [
    "# create a histogram of the average rating per movie\n",
    "\n",
    "plt.figure()\n",
    "ax.spines[\"top\"].set_visible(False)  \n",
    "ax.spines[\"right\"].set_visible(False) \n",
    "ax.get_xaxis().tick_bottom()  \n",
    "ax.get_yaxis().tick_left() \n",
    "avgratingpermovie.plot.hist(bins=30,color='grey')\n",
    "plt.xlabel('Rating')\n",
    "plt.title('Average Rating per Movie')\n",
    "plt.show()"
   ]
  },
  {
   "cell_type": "raw",
   "metadata": {},
   "source": [
    "This is not a Guassian distribution.  This could be because movie users are movie lovers and tend to be generous when rating their movies.  Or it could mean the users are more likely to rate a movie when they enjoy the movie and less likely to rate a movie when they don't enjoy it."
   ]
  },
  {
   "cell_type": "code",
   "execution_count": 41,
   "metadata": {
    "collapsed": false
   },
   "outputs": [],
   "source": [
    "# which movie received the most ratings of 5.0?\n",
    "mostfives = df[df.rating == 5.0]"
   ]
  },
  {
   "cell_type": "code",
   "execution_count": 42,
   "metadata": {
    "collapsed": false,
    "scrolled": false
   },
   "outputs": [
    {
     "data": {
      "text/plain": [
       "title\n",
       "Star Wars: Episode V - The Empire Strikes Back (1980)     94\n",
       "Matrix, The (1999)                                        95\n",
       "Fargo (1996)                                             100\n",
       "Silence of the Lambs, The (1991)                         100\n",
       "Forrest Gump (1994)                                      102\n",
       "Godfather, The (1972)                                    107\n",
       "Schindler's List (1993)                                  109\n",
       "Star Wars: Episode IV - A New Hope (1977)                122\n",
       "Pulp Fiction (1994)                                      138\n",
       "Shawshank Redemption, The (1994)                         170\n",
       "dtype: int64"
      ]
     },
     "execution_count": 42,
     "metadata": {},
     "output_type": "execute_result"
    }
   ],
   "source": [
    "# the top 10 most highly rated films\n",
    "mostfives.groupby('title').size().sort_values().tail(10)"
   ]
  },
  {
   "cell_type": "code",
   "execution_count": 43,
   "metadata": {
    "collapsed": true
   },
   "outputs": [],
   "source": [
    "# which movie received the most ratings of 0.5?\n",
    "mostpointfives = df[df.rating == 0.5]"
   ]
  },
  {
   "cell_type": "code",
   "execution_count": 44,
   "metadata": {
    "collapsed": false
   },
   "outputs": [
    {
     "data": {
      "text/plain": [
       "title\n",
       "Lord of the Rings: The Fellowship of the Ring, The (2001)    4\n",
       "Waterworld (1995)                                            4\n",
       "Blair Witch Project, The (1999)                              4\n",
       "Armageddon (1998)                                            4\n",
       "Battlefield Earth (2000)                                     4\n",
       "Batman & Robin (1997)                                        4\n",
       "Scary Movie (2000)                                           5\n",
       "Amelie (Fabuleux destin d'Amélie Poulain, Le) (2001)         5\n",
       "Titanic (1997)                                               5\n",
       "Star Wars: Episode II - Attack of the Clones (2002)          7\n",
       "dtype: int64"
      ]
     },
     "execution_count": 44,
     "metadata": {},
     "output_type": "execute_result"
    }
   ],
   "source": [
    "# the bottom 10 movies\n",
    "mostpointfives.groupby('title').size().sort_values().tail(10)"
   ]
  },
  {
   "cell_type": "code",
   "execution_count": null,
   "metadata": {
    "collapsed": true
   },
   "outputs": [],
   "source": []
  }
 ],
 "metadata": {
  "anaconda-cloud": {},
  "kernelspec": {
   "display_name": "Python [conda root]",
   "language": "python",
   "name": "conda-root-py"
  },
  "language_info": {
   "codemirror_mode": {
    "name": "ipython",
    "version": 2
   },
   "file_extension": ".py",
   "mimetype": "text/x-python",
   "name": "python",
   "nbconvert_exporter": "python",
   "pygments_lexer": "ipython2",
   "version": "2.7.12"
  }
 },
 "nbformat": 4,
 "nbformat_minor": 1
}
