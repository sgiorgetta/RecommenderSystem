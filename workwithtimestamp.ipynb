{
 "cells": [
  {
   "cell_type": "code",
   "execution_count": 1,
   "metadata": {
    "collapsed": true
   },
   "outputs": [],
   "source": [
    "%matplotlib inline\n",
    "#import packages\n",
    "\n",
    "import matplotlib.pyplot as plt\n",
    "import numpy as np\n",
    "import pandas as pd\n",
    "import seaborn as sns\n",
    "\n",
    "from matplotlib import colors"
   ]
  },
  {
   "cell_type": "code",
   "execution_count": 2,
   "metadata": {
    "collapsed": true
   },
   "outputs": [],
   "source": [
    "ratings = pd.read_table('ml-latest-small/ratings_updated.csv', sep=',')\n",
    "movies = pd.read_table('ml-latest-small/movies_updated.csv',sep=',')"
   ]
  },
  {
   "cell_type": "code",
   "execution_count": 3,
   "metadata": {
    "collapsed": true
   },
   "outputs": [],
   "source": [
    "df = pd.merge(ratings, movies, on='movieId', how='inner')"
   ]
  },
  {
   "cell_type": "code",
   "execution_count": 4,
   "metadata": {
    "collapsed": true
   },
   "outputs": [],
   "source": [
    "timedf = df[['timestamp','userId']]"
   ]
  },
  {
   "cell_type": "code",
   "execution_count": 5,
   "metadata": {
    "collapsed": false
   },
   "outputs": [
    {
     "data": {
      "text/plain": [
       "timestamp    789652009\n",
       "userId               1\n",
       "dtype: int64"
      ]
     },
     "execution_count": 5,
     "metadata": {},
     "output_type": "execute_result"
    }
   ],
   "source": [
    "timedf.min()"
   ]
  },
  {
   "cell_type": "code",
   "execution_count": 6,
   "metadata": {
    "collapsed": false
   },
   "outputs": [
    {
     "data": {
      "text/plain": [
       "timestamp    1476640644\n",
       "userId              671\n",
       "dtype: int64"
      ]
     },
     "execution_count": 6,
     "metadata": {},
     "output_type": "execute_result"
    }
   ],
   "source": [
    "timedf.max()"
   ]
  },
  {
   "cell_type": "code",
   "execution_count": 7,
   "metadata": {
    "collapsed": false
   },
   "outputs": [
    {
     "data": {
      "text/plain": [
       "userId\n",
       "1       20\n",
       "2       76\n",
       "3       51\n",
       "4      204\n",
       "5      100\n",
       "6       44\n",
       "7       88\n",
       "8      116\n",
       "9       45\n",
       "10      46\n",
       "11      38\n",
       "12      61\n",
       "13      53\n",
       "14      20\n",
       "15    1700\n",
       "16      29\n",
       "17     363\n",
       "18      51\n",
       "19     423\n",
       "20      98\n",
       "21     162\n",
       "22     220\n",
       "23     726\n",
       "24      21\n",
       "25      26\n",
       "26     172\n",
       "27      23\n",
       "28      50\n",
       "29      22\n",
       "30    1011\n",
       "31      69\n",
       "32      48\n",
       "33     138\n",
       "34     187\n",
       "35      20\n",
       "dtype: int64"
      ]
     },
     "execution_count": 7,
     "metadata": {},
     "output_type": "execute_result"
    }
   ],
   "source": [
    "timedf.groupby('userId').size().head(35)"
   ]
  },
  {
   "cell_type": "code",
   "execution_count": 8,
   "metadata": {
    "collapsed": false
   },
   "outputs": [
    {
     "data": {
      "text/plain": [
       "timestamp\n",
       "789652009      3\n",
       "828212412      7\n",
       "828212413      1\n",
       "828213114      3\n",
       "828213115     30\n",
       "828213150     20\n",
       "828213511      1\n",
       "828214011     17\n",
       "828214012     37\n",
       "828786667      1\n",
       "829351964     12\n",
       "829352433     19\n",
       "829471719     23\n",
       "829471720     38\n",
       "829471721     27\n",
       "829471722     20\n",
       "829471925      1\n",
       "829491839      4\n",
       "829491840      3\n",
       "829492315     12\n",
       "829492316     29\n",
       "829495183      3\n",
       "829911793      4\n",
       "829912557     10\n",
       "829912558     16\n",
       "830633216      1\n",
       "830633234      1\n",
       "830633251      1\n",
       "830633279      1\n",
       "831090605      9\n",
       "              ..\n",
       "1476551043     1\n",
       "1476551057     1\n",
       "1476551062     1\n",
       "1476551142     1\n",
       "1476551191     1\n",
       "1476551238     1\n",
       "1476551305     1\n",
       "1476551350     1\n",
       "1476551370     1\n",
       "1476552210     1\n",
       "1476552471     1\n",
       "1476552477     1\n",
       "1476552557     1\n",
       "1476555047     1\n",
       "1476555871     1\n",
       "1476562414     1\n",
       "1476564766     1\n",
       "1476587644     1\n",
       "1476616373     1\n",
       "1476622829     1\n",
       "1476622832     1\n",
       "1476622980     1\n",
       "1476623034     1\n",
       "1476623070     1\n",
       "1476623117     1\n",
       "1476623131     1\n",
       "1476623217     1\n",
       "1476623282     1\n",
       "1476623300     1\n",
       "1476640644     1\n",
       "dtype: int64"
      ]
     },
     "execution_count": 8,
     "metadata": {},
     "output_type": "execute_result"
    }
   ],
   "source": [
    "timedf.groupby('timestamp').size()"
   ]
  },
  {
   "cell_type": "code",
   "execution_count": 9,
   "metadata": {
    "collapsed": false
   },
   "outputs": [
    {
     "data": {
      "text/plain": [
       "78141"
      ]
     },
     "execution_count": 9,
     "metadata": {},
     "output_type": "execute_result"
    }
   ],
   "source": [
    "len(timedf.groupby('timestamp').size())"
   ]
  },
  {
   "cell_type": "code",
   "execution_count": 10,
   "metadata": {
    "collapsed": false
   },
   "outputs": [
    {
     "data": {
      "text/plain": [
       "timestamp\n",
       "0.000000      3\n",
       "4.890969      7\n",
       "4.890970      1\n",
       "4.891058      3\n",
       "4.891059     30\n",
       "4.891063     20\n",
       "4.891109      1\n",
       "4.891172     17\n",
       "4.891172     37\n",
       "4.963807      1\n",
       "5.035509     12\n",
       "5.035569     19\n",
       "5.050699     23\n",
       "5.050699     38\n",
       "5.050699     27\n",
       "5.050699     20\n",
       "5.050725      1\n",
       "5.053251      4\n",
       "5.053251      3\n",
       "5.053311     12\n",
       "5.053311     29\n",
       "5.053675      3\n",
       "5.106518      4\n",
       "5.106614     10\n",
       "5.106615     16\n",
       "5.198022      1\n",
       "5.198024      1\n",
       "5.198027      1\n",
       "5.198030      1\n",
       "5.256037      9\n",
       "             ..\n",
       "87.125702     1\n",
       "87.125704     1\n",
       "87.125704     1\n",
       "87.125714     1\n",
       "87.125721     1\n",
       "87.125727     1\n",
       "87.125735     1\n",
       "87.125741     1\n",
       "87.125743     1\n",
       "87.125850     1\n",
       "87.125883     1\n",
       "87.125884     1\n",
       "87.125894     1\n",
       "87.126210     1\n",
       "87.126314     1\n",
       "87.127144     1\n",
       "87.127443     1\n",
       "87.130344     1\n",
       "87.133988     1\n",
       "87.134807     1\n",
       "87.134808     1\n",
       "87.134826     1\n",
       "87.134833     1\n",
       "87.134838     1\n",
       "87.134844     1\n",
       "87.134846     1\n",
       "87.134856     1\n",
       "87.134865     1\n",
       "87.134867     1\n",
       "87.137067     1\n",
       "dtype: int64"
      ]
     },
     "execution_count": 10,
     "metadata": {},
     "output_type": "execute_result"
    }
   ],
   "source": [
    "# find number of users who rated a movie per quarter\n",
    "timedf.groupby((timedf.timestamp - 789652009)/7884000).size()"
   ]
  },
  {
   "cell_type": "code",
   "execution_count": 11,
   "metadata": {
    "collapsed": false
   },
   "outputs": [],
   "source": [
    "# subtract the minimum time to get a start time of 0\n",
    "tdf = timedf.groupby((timedf.timestamp - 789652009)).size()"
   ]
  },
  {
   "cell_type": "code",
   "execution_count": 12,
   "metadata": {
    "collapsed": false,
    "scrolled": true
   },
   "outputs": [
    {
     "data": {
      "text/plain": [
       "timestamp\n",
       "0             3\n",
       "38560403      7\n",
       "38560404      1\n",
       "38561105      3\n",
       "38561106     30\n",
       "38561141     20\n",
       "38561502      1\n",
       "38562002     17\n",
       "38562003     37\n",
       "39134658      1\n",
       "39699955     12\n",
       "39700424     19\n",
       "39819710     23\n",
       "39819711     38\n",
       "39819712     27\n",
       "39819713     20\n",
       "39819916      1\n",
       "39839830      4\n",
       "39839831      3\n",
       "39840306     12\n",
       "39840307     29\n",
       "39843174      3\n",
       "40259784      4\n",
       "40260548     10\n",
       "40260549     16\n",
       "40981207      1\n",
       "40981225      1\n",
       "40981242      1\n",
       "40981270      1\n",
       "41438596      9\n",
       "             ..\n",
       "686899034     1\n",
       "686899048     1\n",
       "686899053     1\n",
       "686899133     1\n",
       "686899182     1\n",
       "686899229     1\n",
       "686899296     1\n",
       "686899341     1\n",
       "686899361     1\n",
       "686900201     1\n",
       "686900462     1\n",
       "686900468     1\n",
       "686900548     1\n",
       "686903038     1\n",
       "686903862     1\n",
       "686910405     1\n",
       "686912757     1\n",
       "686935635     1\n",
       "686964364     1\n",
       "686970820     1\n",
       "686970823     1\n",
       "686970971     1\n",
       "686971025     1\n",
       "686971061     1\n",
       "686971108     1\n",
       "686971122     1\n",
       "686971208     1\n",
       "686971273     1\n",
       "686971291     1\n",
       "686988635     1\n",
       "dtype: int64"
      ]
     },
     "execution_count": 12,
     "metadata": {},
     "output_type": "execute_result"
    }
   ],
   "source": [
    "tdf"
   ]
  },
  {
   "cell_type": "code",
   "execution_count": 15,
   "metadata": {
    "collapsed": false,
    "scrolled": false
   },
   "outputs": [
    {
     "name": "stderr",
     "output_type": "stream",
     "text": [
      "C:\\Users\\sgior\\Anaconda2\\lib\\site-packages\\pandas\\core\\indexing.py:560: SettingWithCopyWarning: \n",
      "A value is trying to be set on a copy of a slice from a DataFrame.\n",
      "Try using .loc[row_indexer,col_indexer] = value instead\n",
      "\n",
      "See the caveats in the documentation: http://pandas.pydata.org/pandas-docs/stable/indexing.html#indexing-view-versus-copy\n",
      "  self.obj[item_labels[indexer[info_axis]]] = value\n"
     ]
    }
   ],
   "source": [
    "# subtract the minimum time from all timestamps so we have a start at time = 0\n",
    "timedf.ix[:,'time'] = timedf.timestamp - 789652009"
   ]
  },
  {
   "cell_type": "code",
   "execution_count": 47,
   "metadata": {
    "collapsed": false
   },
   "outputs": [
    {
     "data": {
      "text/html": [
       "<div>\n",
       "<table border=\"1\" class=\"dataframe\">\n",
       "  <thead>\n",
       "    <tr style=\"text-align: right;\">\n",
       "      <th></th>\n",
       "      <th>timestamp</th>\n",
       "      <th>userId</th>\n",
       "      <th>time</th>\n",
       "    </tr>\n",
       "  </thead>\n",
       "  <tbody>\n",
       "    <tr>\n",
       "      <th>0</th>\n",
       "      <td>1260759144</td>\n",
       "      <td>1</td>\n",
       "      <td>471107135</td>\n",
       "    </tr>\n",
       "    <tr>\n",
       "      <th>1</th>\n",
       "      <td>851868750</td>\n",
       "      <td>7</td>\n",
       "      <td>62216741</td>\n",
       "    </tr>\n",
       "    <tr>\n",
       "      <th>2</th>\n",
       "      <td>1273541953</td>\n",
       "      <td>31</td>\n",
       "      <td>483889944</td>\n",
       "    </tr>\n",
       "    <tr>\n",
       "      <th>3</th>\n",
       "      <td>834828440</td>\n",
       "      <td>32</td>\n",
       "      <td>45176431</td>\n",
       "    </tr>\n",
       "    <tr>\n",
       "      <th>4</th>\n",
       "      <td>847057202</td>\n",
       "      <td>36</td>\n",
       "      <td>57405193</td>\n",
       "    </tr>\n",
       "  </tbody>\n",
       "</table>\n",
       "</div>"
      ],
      "text/plain": [
       "    timestamp  userId       time\n",
       "0  1260759144       1  471107135\n",
       "1   851868750       7   62216741\n",
       "2  1273541953      31  483889944\n",
       "3   834828440      32   45176431\n",
       "4   847057202      36   57405193"
      ]
     },
     "execution_count": 47,
     "metadata": {},
     "output_type": "execute_result"
    }
   ],
   "source": [
    "timedf.head()"
   ]
  },
  {
   "cell_type": "code",
   "execution_count": 16,
   "metadata": {
    "collapsed": false
   },
   "outputs": [],
   "source": [
    "timedf2 = timedf[['userId','time']]"
   ]
  },
  {
   "cell_type": "code",
   "execution_count": 17,
   "metadata": {
    "collapsed": false,
    "scrolled": true
   },
   "outputs": [
    {
     "data": {
      "text/html": [
       "<div>\n",
       "<table border=\"1\" class=\"dataframe\">\n",
       "  <thead>\n",
       "    <tr style=\"text-align: right;\">\n",
       "      <th></th>\n",
       "      <th>userId</th>\n",
       "      <th>time</th>\n",
       "    </tr>\n",
       "  </thead>\n",
       "  <tbody>\n",
       "    <tr>\n",
       "      <th>0</th>\n",
       "      <td>1</td>\n",
       "      <td>471107135</td>\n",
       "    </tr>\n",
       "    <tr>\n",
       "      <th>1</th>\n",
       "      <td>7</td>\n",
       "      <td>62216741</td>\n",
       "    </tr>\n",
       "    <tr>\n",
       "      <th>2</th>\n",
       "      <td>31</td>\n",
       "      <td>483889944</td>\n",
       "    </tr>\n",
       "    <tr>\n",
       "      <th>3</th>\n",
       "      <td>32</td>\n",
       "      <td>45176431</td>\n",
       "    </tr>\n",
       "    <tr>\n",
       "      <th>4</th>\n",
       "      <td>36</td>\n",
       "      <td>57405193</td>\n",
       "    </tr>\n",
       "  </tbody>\n",
       "</table>\n",
       "</div>"
      ],
      "text/plain": [
       "   userId       time\n",
       "0       1  471107135\n",
       "1       7   62216741\n",
       "2      31  483889944\n",
       "3      32   45176431\n",
       "4      36   57405193"
      ]
     },
     "execution_count": 17,
     "metadata": {},
     "output_type": "execute_result"
    }
   ],
   "source": [
    "timedf2.head()"
   ]
  },
  {
   "cell_type": "code",
   "execution_count": 18,
   "metadata": {
    "collapsed": false,
    "scrolled": false
   },
   "outputs": [
    {
     "data": {
      "text/html": [
       "<div>\n",
       "<table border=\"1\" class=\"dataframe\">\n",
       "  <thead>\n",
       "    <tr style=\"text-align: right;\">\n",
       "      <th></th>\n",
       "      <th>userId</th>\n",
       "      <th>time</th>\n",
       "    </tr>\n",
       "  </thead>\n",
       "  <tbody>\n",
       "    <tr>\n",
       "      <th>0</th>\n",
       "      <td>1</td>\n",
       "      <td>471107135</td>\n",
       "    </tr>\n",
       "    <tr>\n",
       "      <th>117</th>\n",
       "      <td>1</td>\n",
       "      <td>471107176</td>\n",
       "    </tr>\n",
       "    <tr>\n",
       "      <th>165</th>\n",
       "      <td>1</td>\n",
       "      <td>471107196</td>\n",
       "    </tr>\n",
       "    <tr>\n",
       "      <th>403</th>\n",
       "      <td>1</td>\n",
       "      <td>471107122</td>\n",
       "    </tr>\n",
       "    <tr>\n",
       "      <th>211</th>\n",
       "      <td>1</td>\n",
       "      <td>471107142</td>\n",
       "    </tr>\n",
       "    <tr>\n",
       "      <th>259</th>\n",
       "      <td>1</td>\n",
       "      <td>471107178</td>\n",
       "    </tr>\n",
       "    <tr>\n",
       "      <th>305</th>\n",
       "      <td>1</td>\n",
       "      <td>471107139</td>\n",
       "    </tr>\n",
       "    <tr>\n",
       "      <th>849</th>\n",
       "      <td>1</td>\n",
       "      <td>471107108</td>\n",
       "    </tr>\n",
       "    <tr>\n",
       "      <th>84</th>\n",
       "      <td>1</td>\n",
       "      <td>471107173</td>\n",
       "    </tr>\n",
       "    <tr>\n",
       "      <th>806</th>\n",
       "      <td>1</td>\n",
       "      <td>471107191</td>\n",
       "    </tr>\n",
       "    <tr>\n",
       "      <th>706</th>\n",
       "      <td>1</td>\n",
       "      <td>471107099</td>\n",
       "    </tr>\n",
       "    <tr>\n",
       "      <th>664</th>\n",
       "      <td>1</td>\n",
       "      <td>471107189</td>\n",
       "    </tr>\n",
       "    <tr>\n",
       "      <th>628</th>\n",
       "      <td>1</td>\n",
       "      <td>471107185</td>\n",
       "    </tr>\n",
       "    <tr>\n",
       "      <th>581</th>\n",
       "      <td>1</td>\n",
       "      <td>471107130</td>\n",
       "    </tr>\n",
       "    <tr>\n",
       "      <th>535</th>\n",
       "      <td>1</td>\n",
       "      <td>471107182</td>\n",
       "    </tr>\n",
       "    <tr>\n",
       "      <th>489</th>\n",
       "      <td>1</td>\n",
       "      <td>471107194</td>\n",
       "    </tr>\n",
       "    <tr>\n",
       "      <th>442</th>\n",
       "      <td>1</td>\n",
       "      <td>471107126</td>\n",
       "    </tr>\n",
       "    <tr>\n",
       "      <th>759</th>\n",
       "      <td>1</td>\n",
       "      <td>471107104</td>\n",
       "    </tr>\n",
       "    <tr>\n",
       "      <th>42</th>\n",
       "      <td>1</td>\n",
       "      <td>471107170</td>\n",
       "    </tr>\n",
       "    <tr>\n",
       "      <th>351</th>\n",
       "      <td>1</td>\n",
       "      <td>471107116</td>\n",
       "    </tr>\n",
       "    <tr>\n",
       "      <th>6028</th>\n",
       "      <td>2</td>\n",
       "      <td>45703781</td>\n",
       "    </tr>\n",
       "    <tr>\n",
       "      <th>5705</th>\n",
       "      <td>2</td>\n",
       "      <td>45703595</td>\n",
       "    </tr>\n",
       "    <tr>\n",
       "      <th>5632</th>\n",
       "      <td>2</td>\n",
       "      <td>45703523</td>\n",
       "    </tr>\n",
       "    <tr>\n",
       "      <th>5616</th>\n",
       "      <td>2</td>\n",
       "      <td>45704237</td>\n",
       "    </tr>\n",
       "    <tr>\n",
       "      <th>5597</th>\n",
       "      <td>2</td>\n",
       "      <td>45704156</td>\n",
       "    </tr>\n",
       "  </tbody>\n",
       "</table>\n",
       "</div>"
      ],
      "text/plain": [
       "      userId       time\n",
       "0          1  471107135\n",
       "117        1  471107176\n",
       "165        1  471107196\n",
       "403        1  471107122\n",
       "211        1  471107142\n",
       "259        1  471107178\n",
       "305        1  471107139\n",
       "849        1  471107108\n",
       "84         1  471107173\n",
       "806        1  471107191\n",
       "706        1  471107099\n",
       "664        1  471107189\n",
       "628        1  471107185\n",
       "581        1  471107130\n",
       "535        1  471107182\n",
       "489        1  471107194\n",
       "442        1  471107126\n",
       "759        1  471107104\n",
       "42         1  471107170\n",
       "351        1  471107116\n",
       "6028       2   45703781\n",
       "5705       2   45703595\n",
       "5632       2   45703523\n",
       "5616       2   45704237\n",
       "5597       2   45704156"
      ]
     },
     "execution_count": 18,
     "metadata": {},
     "output_type": "execute_result"
    }
   ],
   "source": [
    "timedf2.sort_values('userId').head(25)"
   ]
  },
  {
   "cell_type": "code",
   "execution_count": 19,
   "metadata": {
    "collapsed": false
   },
   "outputs": [],
   "source": [
    "durationdf = timedf2.groupby('userId').max() - timedf2.groupby('userId').min()"
   ]
  },
  {
   "cell_type": "code",
   "execution_count": 20,
   "metadata": {
    "collapsed": false
   },
   "outputs": [
    {
     "data": {
      "text/html": [
       "<div>\n",
       "<table border=\"1\" class=\"dataframe\">\n",
       "  <thead>\n",
       "    <tr style=\"text-align: right;\">\n",
       "      <th></th>\n",
       "      <th>time</th>\n",
       "    </tr>\n",
       "    <tr>\n",
       "      <th>userId</th>\n",
       "      <th></th>\n",
       "    </tr>\n",
       "  </thead>\n",
       "  <tbody>\n",
       "    <tr>\n",
       "      <th>1</th>\n",
       "      <td>97</td>\n",
       "    </tr>\n",
       "    <tr>\n",
       "      <th>2</th>\n",
       "      <td>851</td>\n",
       "    </tr>\n",
       "    <tr>\n",
       "      <th>3</th>\n",
       "      <td>71198</td>\n",
       "    </tr>\n",
       "    <tr>\n",
       "      <th>4</th>\n",
       "      <td>203560</td>\n",
       "    </tr>\n",
       "    <tr>\n",
       "      <th>5</th>\n",
       "      <td>2101</td>\n",
       "    </tr>\n",
       "    <tr>\n",
       "      <th>6</th>\n",
       "      <td>1124022</td>\n",
       "    </tr>\n",
       "    <tr>\n",
       "      <th>7</th>\n",
       "      <td>2588</td>\n",
       "    </tr>\n",
       "    <tr>\n",
       "      <th>8</th>\n",
       "      <td>85187</td>\n",
       "    </tr>\n",
       "    <tr>\n",
       "      <th>9</th>\n",
       "      <td>495168</td>\n",
       "    </tr>\n",
       "    <tr>\n",
       "      <th>10</th>\n",
       "      <td>1593</td>\n",
       "    </tr>\n",
       "    <tr>\n",
       "      <th>11</th>\n",
       "      <td>1840</td>\n",
       "    </tr>\n",
       "    <tr>\n",
       "      <th>12</th>\n",
       "      <td>12638611</td>\n",
       "    </tr>\n",
       "    <tr>\n",
       "      <th>13</th>\n",
       "      <td>1572</td>\n",
       "    </tr>\n",
       "    <tr>\n",
       "      <th>14</th>\n",
       "      <td>679</td>\n",
       "    </tr>\n",
       "    <tr>\n",
       "      <th>15</th>\n",
       "      <td>471393496</td>\n",
       "    </tr>\n",
       "    <tr>\n",
       "      <th>16</th>\n",
       "      <td>40787345</td>\n",
       "    </tr>\n",
       "    <tr>\n",
       "      <th>17</th>\n",
       "      <td>8053</td>\n",
       "    </tr>\n",
       "    <tr>\n",
       "      <th>18</th>\n",
       "      <td>85250</td>\n",
       "    </tr>\n",
       "    <tr>\n",
       "      <th>19</th>\n",
       "      <td>5282</td>\n",
       "    </tr>\n",
       "    <tr>\n",
       "      <th>20</th>\n",
       "      <td>14688302</td>\n",
       "    </tr>\n",
       "  </tbody>\n",
       "</table>\n",
       "</div>"
      ],
      "text/plain": [
       "             time\n",
       "userId           \n",
       "1              97\n",
       "2             851\n",
       "3           71198\n",
       "4          203560\n",
       "5            2101\n",
       "6         1124022\n",
       "7            2588\n",
       "8           85187\n",
       "9          495168\n",
       "10           1593\n",
       "11           1840\n",
       "12       12638611\n",
       "13           1572\n",
       "14            679\n",
       "15      471393496\n",
       "16       40787345\n",
       "17           8053\n",
       "18          85250\n",
       "19           5282\n",
       "20       14688302"
      ]
     },
     "execution_count": 20,
     "metadata": {},
     "output_type": "execute_result"
    }
   ],
   "source": [
    "durationdf.head(20)"
   ]
  },
  {
   "cell_type": "code",
   "execution_count": 21,
   "metadata": {
    "collapsed": false
   },
   "outputs": [
    {
     "data": {
      "text/plain": [
       "time    5969.787743\n",
       "dtype: float64"
      ]
     },
     "execution_count": 21,
     "metadata": {},
     "output_type": "execute_result"
    }
   ],
   "source": [
    "durationdf.max()/60/60/24  # in days"
   ]
  },
  {
   "cell_type": "code",
   "execution_count": 22,
   "metadata": {
    "collapsed": false
   },
   "outputs": [
    {
     "data": {
      "text/plain": [
       "time    16.355583\n",
       "dtype: float64"
      ]
     },
     "execution_count": 22,
     "metadata": {},
     "output_type": "execute_result"
    }
   ],
   "source": [
    "durationdf.max()/60/60/24/365  #in years"
   ]
  },
  {
   "cell_type": "code",
   "execution_count": 23,
   "metadata": {
    "collapsed": false
   },
   "outputs": [
    {
     "data": {
      "text/html": [
       "<div>\n",
       "<table border=\"1\" class=\"dataframe\">\n",
       "  <thead>\n",
       "    <tr style=\"text-align: right;\">\n",
       "      <th></th>\n",
       "      <th>time</th>\n",
       "    </tr>\n",
       "    <tr>\n",
       "      <th>userId</th>\n",
       "      <th></th>\n",
       "    </tr>\n",
       "  </thead>\n",
       "  <tbody>\n",
       "    <tr>\n",
       "      <th>380</th>\n",
       "      <td>515789661</td>\n",
       "    </tr>\n",
       "  </tbody>\n",
       "</table>\n",
       "</div>"
      ],
      "text/plain": [
       "             time\n",
       "userId           \n",
       "380     515789661"
      ]
     },
     "execution_count": 23,
     "metadata": {},
     "output_type": "execute_result"
    }
   ],
   "source": [
    "# which user is the most loyal?\n",
    "durationdf.loc[durationdf.time == 515789661]"
   ]
  },
  {
   "cell_type": "code",
   "execution_count": 24,
   "metadata": {
    "collapsed": false
   },
   "outputs": [
    {
     "data": {
      "text/plain": [
       "time    29\n",
       "dtype: int64"
      ]
     },
     "execution_count": 24,
     "metadata": {},
     "output_type": "execute_result"
    }
   ],
   "source": [
    "durationdf.min()  # in seconds"
   ]
  },
  {
   "cell_type": "code",
   "execution_count": 25,
   "metadata": {
    "collapsed": false
   },
   "outputs": [
    {
     "data": {
      "text/html": [
       "<div>\n",
       "<table border=\"1\" class=\"dataframe\">\n",
       "  <thead>\n",
       "    <tr style=\"text-align: right;\">\n",
       "      <th></th>\n",
       "      <th>time</th>\n",
       "    </tr>\n",
       "    <tr>\n",
       "      <th>userId</th>\n",
       "      <th></th>\n",
       "    </tr>\n",
       "  </thead>\n",
       "  <tbody>\n",
       "    <tr>\n",
       "      <th>35</th>\n",
       "      <td>29</td>\n",
       "    </tr>\n",
       "  </tbody>\n",
       "</table>\n",
       "</div>"
      ],
      "text/plain": [
       "        time\n",
       "userId      \n",
       "35        29"
      ]
     },
     "execution_count": 25,
     "metadata": {},
     "output_type": "execute_result"
    }
   ],
   "source": [
    "# which user is the least loyal?\n",
    "durationdf.loc[durationdf.time == 29]"
   ]
  },
  {
   "cell_type": "code",
   "execution_count": 26,
   "metadata": {
    "collapsed": false
   },
   "outputs": [
    {
     "data": {
      "text/plain": [
       "time    201.084039\n",
       "dtype: float64"
      ]
     },
     "execution_count": 26,
     "metadata": {},
     "output_type": "execute_result"
    }
   ],
   "source": [
    "# What is the average duration of engagement?\n",
    "durationdf.mean().astype(int)/86400  #in days"
   ]
  },
  {
   "cell_type": "code",
   "execution_count": 27,
   "metadata": {
    "collapsed": true
   },
   "outputs": [],
   "source": [
    "# convert the duration to number of days and graph\n",
    "daysdf = durationdf/86400"
   ]
  },
  {
   "cell_type": "code",
   "execution_count": 28,
   "metadata": {
    "collapsed": false,
    "scrolled": false
   },
   "outputs": [
    {
     "data": {
      "text/plain": [
       "<matplotlib.figure.Figure at 0xd7c0208>"
      ]
     },
     "metadata": {},
     "output_type": "display_data"
    },
    {
     "data": {
      "image/png": "[encoded data removed]",
      "text/plain": [
       "<matplotlib.figure.Figure at 0xd9becc0>"
      ]
     },
     "metadata": {},
     "output_type": "display_data"
    }
   ],
   "source": [
    "plt.figure(figsize=(8,6))\n",
    "daysdf.plot.hist(bins=40,color='grey')\n",
    "ax = plt.subplot(111)\n",
    "\n",
    "ax.spines[\"top\"].set_visible(False)  \n",
    "ax.spines[\"right\"].set_visible(False) \n",
    "ax.get_xaxis().tick_bottom()  \n",
    "ax.get_yaxis().tick_left()  \n",
    "\n",
    "plt.xlabel('User Duration(Days)')\n",
    "plt.title('Duration of Users Engagement ')\n",
    "\n",
    "plt.show()"
   ]
  },
  {
   "cell_type": "code",
   "execution_count": 29,
   "metadata": {
    "collapsed": false
   },
   "outputs": [
    {
     "data": {
      "text/plain": [
       "<matplotlib.figure.Figure at 0xd9bee48>"
      ]
     },
     "metadata": {},
     "output_type": "display_data"
    },
    {
     "data": {
      "image/png": "[encoded data removed]",
      "text/plain": [
       "<matplotlib.figure.Figure at 0xdc54d30>"
      ]
     },
     "metadata": {},
     "output_type": "display_data"
    }
   ],
   "source": [
    "# replot using log of duration\n",
    "plt.figure(figsize=(8,6))\n",
    "np.log(daysdf).plot.hist(bins=40,color='grey')\n",
    "ax = plt.subplot(111)\n",
    "\n",
    "ax.spines[\"top\"].set_visible(False)  \n",
    "ax.spines[\"right\"].set_visible(False) \n",
    "ax.get_xaxis().tick_bottom()  \n",
    "ax.get_yaxis().tick_left()  \n",
    "\n",
    "plt.xlabel('Log of User Duration(Days)')\n",
    "plt.title('Duration of Users Engagement ')\n",
    "plt.savefig('log_duration')\n",
    "plt.show()"
   ]
  },
  {
   "cell_type": "code",
   "execution_count": null,
   "metadata": {
    "collapsed": true
   },
   "outputs": [],
   "source": [
    "#plt.plot(vals, bars, 'o')\n",
    "#plt.hlines(bars, [0], vals, linestyles='dotted', lw=2)"
   ]
  },
  {
   "cell_type": "code",
   "execution_count": 38,
   "metadata": {
    "collapsed": false,
    "scrolled": true
   },
   "outputs": [
    {
     "data": {
      "image/png": "[encoded data removed]",
      "text/plain": [
       "<matplotlib.figure.Figure at 0xf334048>"
      ]
     },
     "metadata": {},
     "output_type": "display_data"
    }
   ],
   "source": [
    "sns.tsplot(daysdf.time)\n",
    "plt.title('Duration of Engagement(Days) per User')\n",
    "plt.xlabel('UserId')\n",
    "plt.ylabel(\"Duration(Days)\")\n",
    "plt.savefig('duration_per_user')"
   ]
  },
  {
   "cell_type": "code",
   "execution_count": 42,
   "metadata": {
    "collapsed": true
   },
   "outputs": [],
   "source": [
    "grouped_by_timestamp = timedf.groupby('timestamp').size()"
   ]
  },
  {
   "cell_type": "code",
   "execution_count": 48,
   "metadata": {
    "collapsed": false,
    "scrolled": true
   },
   "outputs": [
    {
     "data": {
      "image/png": "[encoded data removed]",
      "text/plain": [
       "<matplotlib.figure.Figure at 0x11337898>"
      ]
     },
     "metadata": {},
     "output_type": "display_data"
    }
   ],
   "source": [
    "sns.tsplot(grouped_by_timestamp)\n",
    "plt.title('Number of Timestamps Over Time')\n",
    "plt.xlabel('Index of Timestamps')\n",
    "plt.ylabel('Number of Timestamps')\n",
    "plt.savefig('timestamps_over_time')"
   ]
  },
  {
   "cell_type": "code",
   "execution_count": 59,
   "metadata": {
    "collapsed": false
   },
   "outputs": [
    {
     "data": {
      "text/plain": [
       "1049923830"
      ]
     },
     "execution_count": 59,
     "metadata": {},
     "output_type": "execute_result"
    }
   ],
   "source": [
    "# find the timestamp at index 20000 to identify when engagement level dropped\n",
    "grouped_by_timestamp.index[20000]"
   ]
  },
  {
   "cell_type": "code",
   "execution_count": 63,
   "metadata": {
    "collapsed": false
   },
   "outputs": [
    {
     "data": {
      "text/plain": [
       "33.29041095890411"
      ]
     },
     "execution_count": 63,
     "metadata": {},
     "output_type": "execute_result"
    }
   ],
   "source": [
    "#convert the timestamp in seconds to years then add to Jan. 1, 1970 to get the actual date\n",
    "1049923830/60/60/24/365.0"
   ]
  },
  {
   "cell_type": "markdown",
   "metadata": {},
   "source": [
    "Around the end of April in the year of 2003, engagement dropped."
   ]
  },
  {
   "cell_type": "code",
   "execution_count": null,
   "metadata": {
    "collapsed": true
   },
   "outputs": [],
   "source": [
    "# if you break the durations into quartiles,approximately 650 of the 671 users have durations of less than 1500 days (~ 4 years)."
   ]
  },
  {
   "cell_type": "code",
   "execution_count": 48,
   "metadata": {
    "collapsed": true
   },
   "outputs": [],
   "source": [
    "dflessthanoneyear = daysdf[daysdf.time <= 365]"
   ]
  },
  {
   "cell_type": "code",
   "execution_count": 49,
   "metadata": {
    "collapsed": false
   },
   "outputs": [
    {
     "data": {
      "text/plain": [
       "588"
      ]
     },
     "execution_count": 49,
     "metadata": {},
     "output_type": "execute_result"
    }
   ],
   "source": [
    "len(dflessthanoneyear)"
   ]
  },
  {
   "cell_type": "code",
   "execution_count": 51,
   "metadata": {
    "collapsed": false
   },
   "outputs": [
    {
     "data": {
      "text/plain": [
       "588"
      ]
     },
     "execution_count": 51,
     "metadata": {},
     "output_type": "execute_result"
    }
   ],
   "source": [
    "# number of users that dropped out before the end of one year\n",
    "len(daysdf[daysdf.time <= 365])"
   ]
  },
  {
   "cell_type": "code",
   "execution_count": 58,
   "metadata": {
    "collapsed": false
   },
   "outputs": [
    {
     "data": {
      "text/plain": [
       "36"
      ]
     },
     "execution_count": 58,
     "metadata": {},
     "output_type": "execute_result"
    }
   ],
   "source": [
    "# number of users that stayed for at least one year and up to 2 years\n",
    "len(daysdf[(daysdf.time <= 730) & (daysdf.time > 365)])"
   ]
  },
  {
   "cell_type": "code",
   "execution_count": 59,
   "metadata": {
    "collapsed": false
   },
   "outputs": [
    {
     "data": {
      "text/plain": [
       "10"
      ]
     },
     "execution_count": 59,
     "metadata": {},
     "output_type": "execute_result"
    }
   ],
   "source": [
    "# number of users that stayed for at least 2 years and up to 3 years\n",
    "len(daysdf[(daysdf.time <= 1095) & (daysdf.time > 730) ])"
   ]
  },
  {
   "cell_type": "code",
   "execution_count": 61,
   "metadata": {
    "collapsed": false
   },
   "outputs": [
    {
     "data": {
      "text/plain": [
       "13"
      ]
     },
     "execution_count": 61,
     "metadata": {},
     "output_type": "execute_result"
    }
   ],
   "source": [
    "# number of users that stayed for at least 3 years and up to 4 years\n",
    "len(daysdf[(daysdf.time <= 1460) & (daysdf.time > 1095) ])"
   ]
  },
  {
   "cell_type": "code",
   "execution_count": 62,
   "metadata": {
    "collapsed": false
   },
   "outputs": [
    {
     "data": {
      "text/plain": [
       "5"
      ]
     },
     "execution_count": 62,
     "metadata": {},
     "output_type": "execute_result"
    }
   ],
   "source": [
    "# number of users that stayed for at least 4 years and up to 5 years\n",
    "len(daysdf[(daysdf.time <= 1825) & (daysdf.time > 1460) ])"
   ]
  },
  {
   "cell_type": "code",
   "execution_count": 64,
   "metadata": {
    "collapsed": false
   },
   "outputs": [
    {
     "data": {
      "text/plain": [
       "19"
      ]
     },
     "execution_count": 64,
     "metadata": {},
     "output_type": "execute_result"
    }
   ],
   "source": [
    "# number of users that stayed for more than 5 years\n",
    "len(daysdf[daysdf.time > 1825])"
   ]
  },
  {
   "cell_type": "code",
   "execution_count": null,
   "metadata": {
    "collapsed": true
   },
   "outputs": [],
   "source": []
  }
 ],
 "metadata": {
  "anaconda-cloud": {},
  "kernelspec": {
   "display_name": "Python [conda root]",
   "language": "python",
   "name": "conda-root-py"
  },
  "language_info": {
   "codemirror_mode": {
    "name": "ipython",
    "version": 2
   },
   "file_extension": ".py",
   "mimetype": "text/x-python",
   "name": "python",
   "nbconvert_exporter": "python",
   "pygments_lexer": "ipython2",
   "version": "2.7.12"
  }
 },
 "nbformat": 4,
 "nbformat_minor": 1
}
